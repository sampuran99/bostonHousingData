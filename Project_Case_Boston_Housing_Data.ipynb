{
 "cells": [
  {
   "cell_type": "markdown",
   "id": "5ce98120",
   "metadata": {},
   "source": [
    "# Functions and Libraries"
   ]
  },
  {
   "cell_type": "code",
   "execution_count": 57,
   "id": "7745fe70",
   "metadata": {},
   "outputs": [],
   "source": [
    "import numpy as np\n",
    "import pandas as pd\n",
    "import seaborn as sns\n",
    "import matplotlib.pyplot as plt \n",
    "import scipy.stats\n",
    "import statsmodels.api as sm"
   ]
  },
  {
   "cell_type": "markdown",
   "id": "3de4d062",
   "metadata": {},
   "source": [
    "# Project Case Scenario \n",
    "Project Scenario: You are a Data Scientist with a housing agency in Boston MA, you have been given access to a previous dataset on housing prices derived from the U.S. Census Service to present insights to higher management. Based on your experience in Statistics, what information can you provide them to help with making an informed decision? Upper management will like to get some insight into the following.\n",
    "\n",
    "- Is there a significant difference in the median value of houses bounded by the Charles river or not?\n",
    "\n",
    "- Is there a difference in median values of houses of each proportion of owner-occupied units built before 1940?\n",
    "\n",
    "- Can we conclude that there is no relationship between Nitric oxide concentrations and the proportion of non-retail business acres per town?\n",
    "\n",
    "- What is the impact of an additional weighted distance to the five Boston employment centres on the median value of owner-occupied homes?\n",
    "\n",
    "Using the appropriate graphs and charts, generate basic statistics and visualizations that you think will be useful for the upper management to give them important insight given the question they are asking, in your graphs, include an explanation of each statistic. \n",
    "\n",
    "Details regarding the project will be broken down in the next reading sections."
   ]
  },
  {
   "cell_type": "markdown",
   "id": "27dcdf57",
   "metadata": {},
   "source": [
    "# Becoming familiar with the dataset\n",
    "The following describes the dataset variables:\n",
    "\n",
    "- CRIM - per capita crime rate by town\n",
    "\n",
    "- ZN - proportion of residential land zoned for lots over 25,000 sq.ft.\n",
    "\n",
    "- INDUS - proportion of non-retail business acres per town.\n",
    "\n",
    "- CHAS - Charles River dummy variable (1 if tract bounds river; 0 otherwise)\n",
    "\n",
    "- NOX - nitric oxides concentration (parts per 10 million)\n",
    "\n",
    "- RM - average number of rooms per dwelling\n",
    "\n",
    "- AGE - proportion of owner-occupied units built prior to 1940\n",
    "\n",
    "- DIS - weighted distances to five Boston employment centres\n",
    "\n",
    "- RAD - index of accessibility to radial highways\n",
    "\n",
    "- TAX - full-value property-tax rate per `$10,000`\n",
    "\n",
    "- PTRATIO - pupil-teacher ratio by town\n",
    "\n",
    "- LSTAT - \\% lower status of the population\n",
    "\n",
    "- MEDV - Median value of owner-occupied homes in $1000's\n",
    "\n"
   ]
  },
  {
   "cell_type": "markdown",
   "id": "802cf0ca",
   "metadata": {},
   "source": [
    "# Loading the dataset"
   ]
  },
  {
   "cell_type": "code",
   "execution_count": 35,
   "id": "bd59425f",
   "metadata": {},
   "outputs": [],
   "source": [
    "boston_url = 'https://cf-courses-data.s3.us.cloud-object-storage.appdomain.cloud/IBMDeveloperSkillsNetwork-ST0151EN-SkillsNetwork/labs/boston_housing.csv'\n",
    "boston_df=pd.read_csv(boston_url)"
   ]
  },
  {
   "cell_type": "code",
   "execution_count": 3,
   "id": "f7ca6ff5",
   "metadata": {},
   "outputs": [
    {
     "data": {
      "text/html": [
       "<div>\n",
       "<style scoped>\n",
       "    .dataframe tbody tr th:only-of-type {\n",
       "        vertical-align: middle;\n",
       "    }\n",
       "\n",
       "    .dataframe tbody tr th {\n",
       "        vertical-align: top;\n",
       "    }\n",
       "\n",
       "    .dataframe thead th {\n",
       "        text-align: right;\n",
       "    }\n",
       "</style>\n",
       "<table border=\"1\" class=\"dataframe\">\n",
       "  <thead>\n",
       "    <tr style=\"text-align: right;\">\n",
       "      <th></th>\n",
       "      <th>Unnamed: 0</th>\n",
       "      <th>CRIM</th>\n",
       "      <th>ZN</th>\n",
       "      <th>INDUS</th>\n",
       "      <th>CHAS</th>\n",
       "      <th>NOX</th>\n",
       "      <th>RM</th>\n",
       "      <th>AGE</th>\n",
       "      <th>DIS</th>\n",
       "      <th>RAD</th>\n",
       "      <th>TAX</th>\n",
       "      <th>PTRATIO</th>\n",
       "      <th>LSTAT</th>\n",
       "      <th>MEDV</th>\n",
       "    </tr>\n",
       "  </thead>\n",
       "  <tbody>\n",
       "    <tr>\n",
       "      <th>0</th>\n",
       "      <td>0</td>\n",
       "      <td>0.00632</td>\n",
       "      <td>18.0</td>\n",
       "      <td>2.31</td>\n",
       "      <td>0.0</td>\n",
       "      <td>0.538</td>\n",
       "      <td>6.575</td>\n",
       "      <td>65.2</td>\n",
       "      <td>4.0900</td>\n",
       "      <td>1.0</td>\n",
       "      <td>296.0</td>\n",
       "      <td>15.3</td>\n",
       "      <td>4.98</td>\n",
       "      <td>24.0</td>\n",
       "    </tr>\n",
       "    <tr>\n",
       "      <th>1</th>\n",
       "      <td>1</td>\n",
       "      <td>0.02731</td>\n",
       "      <td>0.0</td>\n",
       "      <td>7.07</td>\n",
       "      <td>0.0</td>\n",
       "      <td>0.469</td>\n",
       "      <td>6.421</td>\n",
       "      <td>78.9</td>\n",
       "      <td>4.9671</td>\n",
       "      <td>2.0</td>\n",
       "      <td>242.0</td>\n",
       "      <td>17.8</td>\n",
       "      <td>9.14</td>\n",
       "      <td>21.6</td>\n",
       "    </tr>\n",
       "    <tr>\n",
       "      <th>2</th>\n",
       "      <td>2</td>\n",
       "      <td>0.02729</td>\n",
       "      <td>0.0</td>\n",
       "      <td>7.07</td>\n",
       "      <td>0.0</td>\n",
       "      <td>0.469</td>\n",
       "      <td>7.185</td>\n",
       "      <td>61.1</td>\n",
       "      <td>4.9671</td>\n",
       "      <td>2.0</td>\n",
       "      <td>242.0</td>\n",
       "      <td>17.8</td>\n",
       "      <td>4.03</td>\n",
       "      <td>34.7</td>\n",
       "    </tr>\n",
       "    <tr>\n",
       "      <th>3</th>\n",
       "      <td>3</td>\n",
       "      <td>0.03237</td>\n",
       "      <td>0.0</td>\n",
       "      <td>2.18</td>\n",
       "      <td>0.0</td>\n",
       "      <td>0.458</td>\n",
       "      <td>6.998</td>\n",
       "      <td>45.8</td>\n",
       "      <td>6.0622</td>\n",
       "      <td>3.0</td>\n",
       "      <td>222.0</td>\n",
       "      <td>18.7</td>\n",
       "      <td>2.94</td>\n",
       "      <td>33.4</td>\n",
       "    </tr>\n",
       "    <tr>\n",
       "      <th>4</th>\n",
       "      <td>4</td>\n",
       "      <td>0.06905</td>\n",
       "      <td>0.0</td>\n",
       "      <td>2.18</td>\n",
       "      <td>0.0</td>\n",
       "      <td>0.458</td>\n",
       "      <td>7.147</td>\n",
       "      <td>54.2</td>\n",
       "      <td>6.0622</td>\n",
       "      <td>3.0</td>\n",
       "      <td>222.0</td>\n",
       "      <td>18.7</td>\n",
       "      <td>5.33</td>\n",
       "      <td>36.2</td>\n",
       "    </tr>\n",
       "    <tr>\n",
       "      <th>...</th>\n",
       "      <td>...</td>\n",
       "      <td>...</td>\n",
       "      <td>...</td>\n",
       "      <td>...</td>\n",
       "      <td>...</td>\n",
       "      <td>...</td>\n",
       "      <td>...</td>\n",
       "      <td>...</td>\n",
       "      <td>...</td>\n",
       "      <td>...</td>\n",
       "      <td>...</td>\n",
       "      <td>...</td>\n",
       "      <td>...</td>\n",
       "      <td>...</td>\n",
       "    </tr>\n",
       "    <tr>\n",
       "      <th>501</th>\n",
       "      <td>501</td>\n",
       "      <td>0.06263</td>\n",
       "      <td>0.0</td>\n",
       "      <td>11.93</td>\n",
       "      <td>0.0</td>\n",
       "      <td>0.573</td>\n",
       "      <td>6.593</td>\n",
       "      <td>69.1</td>\n",
       "      <td>2.4786</td>\n",
       "      <td>1.0</td>\n",
       "      <td>273.0</td>\n",
       "      <td>21.0</td>\n",
       "      <td>9.67</td>\n",
       "      <td>22.4</td>\n",
       "    </tr>\n",
       "    <tr>\n",
       "      <th>502</th>\n",
       "      <td>502</td>\n",
       "      <td>0.04527</td>\n",
       "      <td>0.0</td>\n",
       "      <td>11.93</td>\n",
       "      <td>0.0</td>\n",
       "      <td>0.573</td>\n",
       "      <td>6.120</td>\n",
       "      <td>76.7</td>\n",
       "      <td>2.2875</td>\n",
       "      <td>1.0</td>\n",
       "      <td>273.0</td>\n",
       "      <td>21.0</td>\n",
       "      <td>9.08</td>\n",
       "      <td>20.6</td>\n",
       "    </tr>\n",
       "    <tr>\n",
       "      <th>503</th>\n",
       "      <td>503</td>\n",
       "      <td>0.06076</td>\n",
       "      <td>0.0</td>\n",
       "      <td>11.93</td>\n",
       "      <td>0.0</td>\n",
       "      <td>0.573</td>\n",
       "      <td>6.976</td>\n",
       "      <td>91.0</td>\n",
       "      <td>2.1675</td>\n",
       "      <td>1.0</td>\n",
       "      <td>273.0</td>\n",
       "      <td>21.0</td>\n",
       "      <td>5.64</td>\n",
       "      <td>23.9</td>\n",
       "    </tr>\n",
       "    <tr>\n",
       "      <th>504</th>\n",
       "      <td>504</td>\n",
       "      <td>0.10959</td>\n",
       "      <td>0.0</td>\n",
       "      <td>11.93</td>\n",
       "      <td>0.0</td>\n",
       "      <td>0.573</td>\n",
       "      <td>6.794</td>\n",
       "      <td>89.3</td>\n",
       "      <td>2.3889</td>\n",
       "      <td>1.0</td>\n",
       "      <td>273.0</td>\n",
       "      <td>21.0</td>\n",
       "      <td>6.48</td>\n",
       "      <td>22.0</td>\n",
       "    </tr>\n",
       "    <tr>\n",
       "      <th>505</th>\n",
       "      <td>505</td>\n",
       "      <td>0.04741</td>\n",
       "      <td>0.0</td>\n",
       "      <td>11.93</td>\n",
       "      <td>0.0</td>\n",
       "      <td>0.573</td>\n",
       "      <td>6.030</td>\n",
       "      <td>80.8</td>\n",
       "      <td>2.5050</td>\n",
       "      <td>1.0</td>\n",
       "      <td>273.0</td>\n",
       "      <td>21.0</td>\n",
       "      <td>7.88</td>\n",
       "      <td>11.9</td>\n",
       "    </tr>\n",
       "  </tbody>\n",
       "</table>\n",
       "<p>506 rows × 14 columns</p>\n",
       "</div>"
      ],
      "text/plain": [
       "     Unnamed: 0     CRIM    ZN  INDUS  CHAS    NOX     RM   AGE     DIS  RAD  \\\n",
       "0             0  0.00632  18.0   2.31   0.0  0.538  6.575  65.2  4.0900  1.0   \n",
       "1             1  0.02731   0.0   7.07   0.0  0.469  6.421  78.9  4.9671  2.0   \n",
       "2             2  0.02729   0.0   7.07   0.0  0.469  7.185  61.1  4.9671  2.0   \n",
       "3             3  0.03237   0.0   2.18   0.0  0.458  6.998  45.8  6.0622  3.0   \n",
       "4             4  0.06905   0.0   2.18   0.0  0.458  7.147  54.2  6.0622  3.0   \n",
       "..          ...      ...   ...    ...   ...    ...    ...   ...     ...  ...   \n",
       "501         501  0.06263   0.0  11.93   0.0  0.573  6.593  69.1  2.4786  1.0   \n",
       "502         502  0.04527   0.0  11.93   0.0  0.573  6.120  76.7  2.2875  1.0   \n",
       "503         503  0.06076   0.0  11.93   0.0  0.573  6.976  91.0  2.1675  1.0   \n",
       "504         504  0.10959   0.0  11.93   0.0  0.573  6.794  89.3  2.3889  1.0   \n",
       "505         505  0.04741   0.0  11.93   0.0  0.573  6.030  80.8  2.5050  1.0   \n",
       "\n",
       "       TAX  PTRATIO  LSTAT  MEDV  \n",
       "0    296.0     15.3   4.98  24.0  \n",
       "1    242.0     17.8   9.14  21.6  \n",
       "2    242.0     17.8   4.03  34.7  \n",
       "3    222.0     18.7   2.94  33.4  \n",
       "4    222.0     18.7   5.33  36.2  \n",
       "..     ...      ...    ...   ...  \n",
       "501  273.0     21.0   9.67  22.4  \n",
       "502  273.0     21.0   9.08  20.6  \n",
       "503  273.0     21.0   5.64  23.9  \n",
       "504  273.0     21.0   6.48  22.0  \n",
       "505  273.0     21.0   7.88  11.9  \n",
       "\n",
       "[506 rows x 14 columns]"
      ]
     },
     "execution_count": 3,
     "metadata": {},
     "output_type": "execute_result"
    }
   ],
   "source": [
    "boston_df"
   ]
  },
  {
   "cell_type": "code",
   "execution_count": 31,
   "id": "8463f84e",
   "metadata": {},
   "outputs": [
    {
     "name": "stdout",
     "output_type": "stream",
     "text": [
      "<class 'pandas.core.frame.DataFrame'>\n",
      "RangeIndex: 506 entries, 0 to 505\n",
      "Data columns (total 14 columns):\n",
      " #   Column      Non-Null Count  Dtype  \n",
      "---  ------      --------------  -----  \n",
      " 0   Unnamed: 0  506 non-null    int64  \n",
      " 1   CRIM        506 non-null    float64\n",
      " 2   ZN          506 non-null    float64\n",
      " 3   INDUS       506 non-null    float64\n",
      " 4   CHAS        506 non-null    float64\n",
      " 5   NOX         506 non-null    float64\n",
      " 6   RM          506 non-null    float64\n",
      " 7   AGE         506 non-null    float64\n",
      " 8   DIS         506 non-null    float64\n",
      " 9   RAD         506 non-null    float64\n",
      " 10  TAX         506 non-null    float64\n",
      " 11  PTRATIO     506 non-null    float64\n",
      " 12  LSTAT       506 non-null    float64\n",
      " 13  MEDV        506 non-null    float64\n",
      "dtypes: float64(13), int64(1)\n",
      "memory usage: 55.5 KB\n"
     ]
    }
   ],
   "source": [
    "boston_df.info()"
   ]
  },
  {
   "cell_type": "code",
   "execution_count": 8,
   "id": "f4f2e57a",
   "metadata": {},
   "outputs": [
    {
     "data": {
      "text/plain": [
       "(506, 14)"
      ]
     },
     "execution_count": 8,
     "metadata": {},
     "output_type": "execute_result"
    }
   ],
   "source": [
    "boston_df.shape"
   ]
  },
  {
   "cell_type": "markdown",
   "id": "2b2c6772",
   "metadata": {},
   "source": [
    "# Generating Descriptive Statistics and Visualizations"
   ]
  },
  {
   "cell_type": "code",
   "execution_count": 61,
   "id": "d3602806",
   "metadata": {},
   "outputs": [
    {
     "data": {
      "text/plain": [
       "[Text(0.5, 1.0, 'Median value of owner-occupied homes')]"
      ]
     },
     "execution_count": 61,
     "metadata": {},
     "output_type": "execute_result"
    },
    {
     "data": {
      "image/png": "[encoded data removed]",
      "text/plain": [
       "<Figure size 640x480 with 1 Axes>"
      ]
     },
     "metadata": {},
     "output_type": "display_data"
    }
   ],
   "source": [
    "# For the \"Median value of owner-occupied homes\" provide a boxplot\n",
    "sns.set(style=\"whitegrid\")\n",
    "sns.boxplot( y='MEDV', data=boston_df).set(title=\"Median value of owner-occupied homes\") "
   ]
  },
  {
   "cell_type": "code",
   "execution_count": 11,
   "id": "fff32dc7",
   "metadata": {},
   "outputs": [
    {
     "data": {
      "text/plain": [
       "21.2"
      ]
     },
     "execution_count": 11,
     "metadata": {},
     "output_type": "execute_result"
    }
   ],
   "source": [
    "boston_df['MEDV'].median()"
   ]
  },
  {
   "cell_type": "markdown",
   "id": "124f3a86",
   "metadata": {},
   "source": [
    "**Explanation:** The median of the above data is the second quartile value for the boxplot. It is coming at around 21 which matches the actual value when calculated separately for the data."
   ]
  },
  {
   "cell_type": "code",
   "execution_count": 32,
   "id": "a9203bd7",
   "metadata": {},
   "outputs": [
    {
     "name": "stderr",
     "output_type": "stream",
     "text": [
      "/tmp/ipykernel_381139/1027973128.py:1: FutureWarning: Setting an item of incompatible dtype is deprecated and will raise in a future error of pandas. Value 'BoundsRiver' has dtype incompatible with float64, please explicitly cast to a compatible dtype first.\n",
      "  boston_df.loc[(boston_df['CHAS'] > 0), 'CHAS'] = 'BoundsRiver'\n"
     ]
    }
   ],
   "source": [
    "boston_df.loc[(boston_df['CHAS'] > 0), 'CHAS'] = 'BoundsRiver'\n",
    "boston_df.loc[(boston_df['CHAS'] == 0), 'CHAS'] = 'NotRiverBound'\n"
   ]
  },
  {
   "cell_type": "code",
   "execution_count": 62,
   "id": "c7f41148",
   "metadata": {
    "scrolled": false
   },
   "outputs": [
    {
     "data": {
      "text/plain": [
       "[Text(0.5, 1.0, 'Proportion of Charles river variable')]"
      ]
     },
     "execution_count": 62,
     "metadata": {},
     "output_type": "execute_result"
    },
    {
     "data": {
      "image/png": "[encoded data removed]",
      "text/plain": [
       "<Figure size 640x480 with 1 Axes>"
      ]
     },
     "metadata": {},
     "output_type": "display_data"
    }
   ],
   "source": [
    "# Provide a  bar plot for the Charles river variable\n",
    "sns.barplot(y=\"CHAS\", data=boston_df).set(title=\"Proportion of Charles river variable\")"
   ]
  },
  {
   "cell_type": "markdown",
   "id": "a45a2769",
   "metadata": {},
   "source": [
    "**Explanation:** The above barplot shows that the proportion of values that point to \"tract binds to river\" status  (represented by 1). Which is coming around `0.07`"
   ]
  },
  {
   "cell_type": "code",
   "execution_count": 64,
   "id": "5604db3a",
   "metadata": {
    "scrolled": false
   },
   "outputs": [
    {
     "data": {
      "text/plain": [
       "Text(0.5, 1.0, 'Bar plot of frequencies of River bound or not Bound status')"
      ]
     },
     "execution_count": 64,
     "metadata": {},
     "output_type": "execute_result"
    },
    {
     "data": {
      "image/png": "[encoded data removed]",
      "text/plain": [
       "<Figure size 640x480 with 1 Axes>"
      ]
     },
     "metadata": {},
     "output_type": "display_data"
    }
   ],
   "source": [
    "# Count the occurrences of 1 and 0\n",
    "cnt = boston_df['CHAS'].value_counts()\n",
    "# Create a bar plot\n",
    "labels = ['Not River Bound', 'Bounds River']\n",
    "values = cnt.values\n",
    "\n",
    "plt.bar(labels, values)\n",
    "plt.title(\"Bar plot of frequencies of River bound or not Bound status\")"
   ]
  },
  {
   "cell_type": "markdown",
   "id": "a06f2e8e",
   "metadata": {},
   "source": [
    "**Explanation:** The above barplot shows the frequencies of different status where \n",
    "1 -> Bounds River\n",
    "0 -> Not River Bound"
   ]
  },
  {
   "cell_type": "code",
   "execution_count": 68,
   "id": "ca7fbac6",
   "metadata": {},
   "outputs": [
    {
     "data": {
      "text/plain": [
       "[Text(0.5, 1.0, 'Boxplot for the MEDV variable vs the AGE variable')]"
      ]
     },
     "execution_count": 68,
     "metadata": {},
     "output_type": "execute_result"
    },
    {
     "data": {
      "image/png": "[encoded data removed]",
      "text/plain": [
       "<Figure size 640x480 with 1 Axes>"
      ]
     },
     "metadata": {},
     "output_type": "display_data"
    }
   ],
   "source": [
    "# Discretize the age variable into three groups of 35 years and younger, between 35 and 70 years and 70 years and older\n",
    "\n",
    "boston_df.loc[(boston_df['AGE'] <= 35), 'AGE_GRP'] = '35 years and younger'\n",
    "boston_df.loc[(boston_df['AGE'] > 35)&(boston_df['AGE'] < 70), 'AGE_GRP'] = 'between 35 and 70 years'\n",
    "boston_df.loc[(boston_df['AGE'] >= 70), 'AGE_GRP'] = '70 years and older'\n",
    "\n",
    "# Provide a boxplot for the MEDV variable vs the AGE variable. \n",
    "sns.boxplot( x='AGE_GRP', y='MEDV', data=boston_df).set(title=\"Boxplot for the MEDV variable vs the AGE variable\")"
   ]
  },
  {
   "cell_type": "markdown",
   "id": "436f0274",
   "metadata": {},
   "source": [
    "**Explanation:** The MEDV for AGE_GRP of 70 years and older is the least and for 35 and younger seems highest."
   ]
  },
  {
   "cell_type": "code",
   "execution_count": 69,
   "id": "96fa8070",
   "metadata": {},
   "outputs": [
    {
     "data": {
      "text/plain": [
       "[Text(0.5, 1.0, 'Scatterplot of INDUS vs NOX')]"
      ]
     },
     "execution_count": 69,
     "metadata": {},
     "output_type": "execute_result"
    },
    {
     "data": {
      "image/png": "[encoded data removed]",
      "text/plain": [
       "<Figure size 640x480 with 1 Axes>"
      ]
     },
     "metadata": {},
     "output_type": "display_data"
    }
   ],
   "source": [
    "# Provide a scatter plot to show the relationship between Nitric oxide concentrations and the proportion of non-retail business acres per town.\n",
    "sns.scatterplot(x='NOX', y='INDUS', data=boston_df).set(title=\"Scatterplot of INDUS vs NOX\")"
   ]
  },
  {
   "cell_type": "markdown",
   "id": "9507c0af",
   "metadata": {},
   "source": [
    "**Explanation:** There is a faint positive correlation between Nitric Oxide concentrations (NOX) and proportion of non-retail business acres per town (INDUS) when the value is less than 0.6 . After which the INDUS value plateus at ~18 even as NOX is increasing."
   ]
  },
  {
   "cell_type": "code",
   "execution_count": 70,
   "id": "8d99fa45",
   "metadata": {},
   "outputs": [
    {
     "data": {
      "text/plain": [
       "Text(0.5, 1.0, 'Histogram of the pupil to teacher ratio')"
      ]
     },
     "execution_count": 70,
     "metadata": {},
     "output_type": "execute_result"
    },
    {
     "data": {
      "image/png": "[encoded data removed]",
      "text/plain": [
       "<Figure size 640x480 with 1 Axes>"
      ]
     },
     "metadata": {},
     "output_type": "display_data"
    }
   ],
   "source": [
    "# Create a histogram for the pupil to teacher ratio variable\n",
    "plt.hist(boston_df['PTRATIO'])\n",
    "plt.title(\"Histogram of the pupil to teacher ratio\")"
   ]
  },
  {
   "cell_type": "markdown",
   "id": "fbf05dcc",
   "metadata": {},
   "source": [
    "**Explanation:** The maximum frequency seems to be occuring for the pupil to teacher ratio in the bin 20-21 "
   ]
  },
  {
   "cell_type": "markdown",
   "id": "17d0fa62",
   "metadata": {},
   "source": [
    "# Using the appropriate tests to answer the questions provided"
   ]
  },
  {
   "cell_type": "markdown",
   "id": "55a8c411",
   "metadata": {},
   "source": [
    "**Is there a significant difference in median value of houses bounded by the Charles river or not?**"
   ]
  },
  {
   "cell_type": "markdown",
   "id": "1c4b5664",
   "metadata": {},
   "source": [
    "**Hypothesis:** \n",
    "* $H_0: µ_1 = µ_2$ (\"there is no difference in median value of houses bounded by the Charles river or not\")\n",
    "* $H_1: µ_1 ≠ µ_2$ (\"there is a difference in median value of houses bounded by the Charles river or not\")\n"
   ]
  },
  {
   "cell_type": "code",
   "execution_count": 60,
   "id": "978af3bb",
   "metadata": {},
   "outputs": [
    {
     "data": {
      "text/plain": [
       "LeveneResult(statistic=8.75190489604598, pvalue=0.003238119367639829)"
      ]
     },
     "execution_count": 60,
     "metadata": {},
     "output_type": "execute_result"
    }
   ],
   "source": [
    "# T-test for independent samples\n",
    "scipy.stats.levene(boston_df[boston_df['CHAS'] == 0]['MEDV'],\n",
    "                   boston_df[boston_df['CHAS'] == 1]['MEDV'], center='mean')\n"
   ]
  },
  {
   "cell_type": "markdown",
   "id": "a0bc570e",
   "metadata": {},
   "source": [
    "**Conclusion:** pvalue < 0.05, we **reject the null hypothesis** as there is enough proof that there is a statistical difference in median value of houses bounded by the Charles river or not"
   ]
  },
  {
   "cell_type": "markdown",
   "id": "7c3a27bb",
   "metadata": {},
   "source": [
    "**Is there a difference in Median values of houses (MEDV) for each proportion of owner occupied units built prior to 1940 (AGE)?**"
   ]
  },
  {
   "cell_type": "markdown",
   "id": "690496a2",
   "metadata": {},
   "source": [
    "First, we group the data into cateries as the one-way ANOVA can't work with continuous variable. In the newly assigned group our categories will be value of AGE that is:\n",
    "* 35 years and younger\n",
    "* between 35 and 70 years\n",
    "* 70 years and older\n"
   ]
  },
  {
   "cell_type": "code",
   "execution_count": 52,
   "id": "6a097525",
   "metadata": {},
   "outputs": [
    {
     "name": "stderr",
     "output_type": "stream",
     "text": [
      "/tmp/ipykernel_381139/9801428.py:1: FutureWarning: Setting an item of incompatible dtype is deprecated and will raise in a future error of pandas. Value '35 years and younger' has dtype incompatible with float64, please explicitly cast to a compatible dtype first.\n",
      "  boston_df.loc[(boston_df['AGE'] <= 35), 'AGE_GRP'] = '35 years and younger'\n"
     ]
    }
   ],
   "source": [
    "boston_df.loc[(boston_df['AGE'] <= 35), 'AGE_GRP'] = '35 years and younger'\n",
    "boston_df.loc[(boston_df['AGE'] > 35)&(boston_df['AGE'] < 70), 'AGE_GRP'] = 'between 35 and 70 years'\n",
    "boston_df.loc[(boston_df['AGE'] >= 70), 'AGE_GRP'] = '70 years and older'"
   ]
  },
  {
   "cell_type": "code",
   "execution_count": 53,
   "id": "32a51af0",
   "metadata": {},
   "outputs": [],
   "source": [
    "thirty_lower = boston_df[boston_df['AGE_GRP'] == '35 years and younger']['MEDV']\n",
    "thirty_seventy = boston_df[boston_df['AGE_GRP'] == 'between 35 and 70 years']['MEDV']\n",
    "seventy_older = boston_df[boston_df['AGE_GRP'] == '70 years and older']['MEDV']"
   ]
  },
  {
   "cell_type": "markdown",
   "id": "824c116c",
   "metadata": {},
   "source": [
    "**Hypothesis:** \n",
    "* $H_0: µ_1 = µ_2 = µ_3$ (the three population means are equal)\n",
    "* $H_1:$ At least one of the means differ"
   ]
  },
  {
   "cell_type": "code",
   "execution_count": 54,
   "id": "85ff030c",
   "metadata": {},
   "outputs": [
    {
     "name": "stdout",
     "output_type": "stream",
     "text": [
      "F_Statistic: 36.40764999196599, P-Value: 1.7105011022702984e-15\n"
     ]
    }
   ],
   "source": [
    "# Running one way ANOVA\n",
    "f_statistic, p_value = scipy.stats.f_oneway(thirty_lower, thirty_seventy, seventy_older)\n",
    "print(\"F_Statistic: {0}, P-Value: {1}\".format(f_statistic,p_value))"
   ]
  },
  {
   "cell_type": "markdown",
   "id": "11d9b38f",
   "metadata": {},
   "source": [
    "**Conclusion:** Since pvalue is less than 0.05, we reject the null hypothesis against the alternative hypothesis that atleast one of the means differ for the different classes of AGE"
   ]
  },
  {
   "cell_type": "markdown",
   "id": "cb96478b",
   "metadata": {},
   "source": [
    "**Can we conclude that there is no relationship between Nitric oxide concentrations and proportion of non-retail business acres per town?**"
   ]
  },
  {
   "cell_type": "markdown",
   "id": "618ef8fb",
   "metadata": {},
   "source": [
    "State the hypothesis:\n",
    "* $H_0:$ Nitric oxide concentrations is not correlated with proportion of non-retail business acres per town\n",
    "* $H_1:$ Nitric oxide concentrations is correlated with proportion of non-retail business acres per town\n"
   ]
  },
  {
   "cell_type": "code",
   "execution_count": 55,
   "id": "ac336dfd",
   "metadata": {},
   "outputs": [
    {
     "data": {
      "text/plain": [
       "PearsonRResult(statistic=0.7636514469209162, pvalue=7.913361061232958e-98)"
      ]
     },
     "execution_count": 55,
     "metadata": {},
     "output_type": "execute_result"
    }
   ],
   "source": [
    "# Testing via Pearson's correlation\n",
    "scipy.stats.pearsonr(boston_df['NOX'], boston_df['INDUS'])"
   ]
  },
  {
   "cell_type": "markdown",
   "id": "881e092f",
   "metadata": {},
   "source": [
    "**Conclusion:** Since the p-value  (Sig. (2-tailed)  < 0.05, we reject  the Null hypothesis and conclude that there  exists a relationship between Nitric oxide concentrations is correlated with proportion of non-retail business acres per town"
   ]
  },
  {
   "cell_type": "markdown",
   "id": "42afd3b5",
   "metadata": {},
   "source": [
    "**What is the impact of an additional weighted distance  to the five Boston employment centres (DIS) on the median value of owner occupied homes (MEDV)?**"
   ]
  },
  {
   "cell_type": "markdown",
   "id": "7dab874e",
   "metadata": {},
   "source": [
    "**Hypothesis:**\n",
    "* $H_0: β1$ = 0 (DIS has no effect on MEDV)\n",
    "* $H_1: β1$ is not equal to 0 (DIS has an effect on MEDV)\n",
    "\n",
    "Doing regression analysis, taking MEDV as independant variable"
   ]
  },
  {
   "cell_type": "code",
   "execution_count": 59,
   "id": "45771424",
   "metadata": {},
   "outputs": [
    {
     "data": {
      "text/html": [
       "<table class=\"simpletable\">\n",
       "<caption>OLS Regression Results</caption>\n",
       "<tr>\n",
       "  <th>Dep. Variable:</th>           <td>DIS</td>       <th>  R-squared:         </th> <td>   0.062</td>\n",
       "</tr>\n",
       "<tr>\n",
       "  <th>Model:</th>                   <td>OLS</td>       <th>  Adj. R-squared:    </th> <td>   0.061</td>\n",
       "</tr>\n",
       "<tr>\n",
       "  <th>Method:</th>             <td>Least Squares</td>  <th>  F-statistic:       </th> <td>   33.58</td>\n",
       "</tr>\n",
       "<tr>\n",
       "  <th>Date:</th>             <td>Fri, 19 Jan 2024</td> <th>  Prob (F-statistic):</th> <td>1.21e-08</td>\n",
       "</tr>\n",
       "<tr>\n",
       "  <th>Time:</th>                 <td>22:44:32</td>     <th>  Log-Likelihood:    </th> <td> -1078.0</td>\n",
       "</tr>\n",
       "<tr>\n",
       "  <th>No. Observations:</th>      <td>   506</td>      <th>  AIC:               </th> <td>   2160.</td>\n",
       "</tr>\n",
       "<tr>\n",
       "  <th>Df Residuals:</th>          <td>   504</td>      <th>  BIC:               </th> <td>   2168.</td>\n",
       "</tr>\n",
       "<tr>\n",
       "  <th>Df Model:</th>              <td>     1</td>      <th>                     </th>     <td> </td>   \n",
       "</tr>\n",
       "<tr>\n",
       "  <th>Covariance Type:</th>      <td>nonrobust</td>    <th>                     </th>     <td> </td>   \n",
       "</tr>\n",
       "</table>\n",
       "<table class=\"simpletable\">\n",
       "<tr>\n",
       "    <td></td>       <th>coef</th>     <th>std err</th>      <th>t</th>      <th>P>|t|</th>  <th>[0.025</th>    <th>0.975]</th>  \n",
       "</tr>\n",
       "<tr>\n",
       "  <th>const</th> <td>    2.5057</td> <td>    0.240</td> <td>   10.428</td> <td> 0.000</td> <td>    2.034</td> <td>    2.978</td>\n",
       "</tr>\n",
       "<tr>\n",
       "  <th>MEDV</th>  <td>    0.0572</td> <td>    0.010</td> <td>    5.795</td> <td> 0.000</td> <td>    0.038</td> <td>    0.077</td>\n",
       "</tr>\n",
       "</table>\n",
       "<table class=\"simpletable\">\n",
       "<tr>\n",
       "  <th>Omnibus:</th>       <td>70.837</td> <th>  Durbin-Watson:     </th> <td>   0.138</td>\n",
       "</tr>\n",
       "<tr>\n",
       "  <th>Prob(Omnibus):</th> <td> 0.000</td> <th>  Jarque-Bera (JB):  </th> <td>  98.167</td>\n",
       "</tr>\n",
       "<tr>\n",
       "  <th>Skew:</th>          <td> 1.000</td> <th>  Prob(JB):          </th> <td>4.82e-22</td>\n",
       "</tr>\n",
       "<tr>\n",
       "  <th>Kurtosis:</th>      <td> 3.809</td> <th>  Cond. No.          </th> <td>    64.5</td>\n",
       "</tr>\n",
       "</table><br/><br/>Notes:<br/>[1] Standard Errors assume that the covariance matrix of the errors is correctly specified."
      ],
      "text/latex": [
       "\\begin{center}\n",
       "\\begin{tabular}{lclc}\n",
       "\\toprule\n",
       "\\textbf{Dep. Variable:}    &       DIS        & \\textbf{  R-squared:         } &     0.062   \\\\\n",
       "\\textbf{Model:}            &       OLS        & \\textbf{  Adj. R-squared:    } &     0.061   \\\\\n",
       "\\textbf{Method:}           &  Least Squares   & \\textbf{  F-statistic:       } &     33.58   \\\\\n",
       "\\textbf{Date:}             & Fri, 19 Jan 2024 & \\textbf{  Prob (F-statistic):} &  1.21e-08   \\\\\n",
       "\\textbf{Time:}             &     22:44:32     & \\textbf{  Log-Likelihood:    } &   -1078.0   \\\\\n",
       "\\textbf{No. Observations:} &         506      & \\textbf{  AIC:               } &     2160.   \\\\\n",
       "\\textbf{Df Residuals:}     &         504      & \\textbf{  BIC:               } &     2168.   \\\\\n",
       "\\textbf{Df Model:}         &           1      & \\textbf{                     } &             \\\\\n",
       "\\textbf{Covariance Type:}  &    nonrobust     & \\textbf{                     } &             \\\\\n",
       "\\bottomrule\n",
       "\\end{tabular}\n",
       "\\begin{tabular}{lcccccc}\n",
       "               & \\textbf{coef} & \\textbf{std err} & \\textbf{t} & \\textbf{P$> |$t$|$} & \\textbf{[0.025} & \\textbf{0.975]}  \\\\\n",
       "\\midrule\n",
       "\\textbf{const} &       2.5057  &        0.240     &    10.428  &         0.000        &        2.034    &        2.978     \\\\\n",
       "\\textbf{MEDV}  &       0.0572  &        0.010     &     5.795  &         0.000        &        0.038    &        0.077     \\\\\n",
       "\\bottomrule\n",
       "\\end{tabular}\n",
       "\\begin{tabular}{lclc}\n",
       "\\textbf{Omnibus:}       & 70.837 & \\textbf{  Durbin-Watson:     } &    0.138  \\\\\n",
       "\\textbf{Prob(Omnibus):} &  0.000 & \\textbf{  Jarque-Bera (JB):  } &   98.167  \\\\\n",
       "\\textbf{Skew:}          &  1.000 & \\textbf{  Prob(JB):          } & 4.82e-22  \\\\\n",
       "\\textbf{Kurtosis:}      &  3.809 & \\textbf{  Cond. No.          } &     64.5  \\\\\n",
       "\\bottomrule\n",
       "\\end{tabular}\n",
       "%\\caption{OLS Regression Results}\n",
       "\\end{center}\n",
       "\n",
       "Notes: \\newline\n",
       " [1] Standard Errors assume that the covariance matrix of the errors is correctly specified."
      ],
      "text/plain": [
       "<class 'statsmodels.iolib.summary.Summary'>\n",
       "\"\"\"\n",
       "                            OLS Regression Results                            \n",
       "==============================================================================\n",
       "Dep. Variable:                    DIS   R-squared:                       0.062\n",
       "Model:                            OLS   Adj. R-squared:                  0.061\n",
       "Method:                 Least Squares   F-statistic:                     33.58\n",
       "Date:                Fri, 19 Jan 2024   Prob (F-statistic):           1.21e-08\n",
       "Time:                        22:44:32   Log-Likelihood:                -1078.0\n",
       "No. Observations:                 506   AIC:                             2160.\n",
       "Df Residuals:                     504   BIC:                             2168.\n",
       "Df Model:                           1                                         \n",
       "Covariance Type:            nonrobust                                         \n",
       "==============================================================================\n",
       "                 coef    std err          t      P>|t|      [0.025      0.975]\n",
       "------------------------------------------------------------------------------\n",
       "const          2.5057      0.240     10.428      0.000       2.034       2.978\n",
       "MEDV           0.0572      0.010      5.795      0.000       0.038       0.077\n",
       "==============================================================================\n",
       "Omnibus:                       70.837   Durbin-Watson:                   0.138\n",
       "Prob(Omnibus):                  0.000   Jarque-Bera (JB):               98.167\n",
       "Skew:                           1.000   Prob(JB):                     4.82e-22\n",
       "Kurtosis:                       3.809   Cond. No.                         64.5\n",
       "==============================================================================\n",
       "\n",
       "Notes:\n",
       "[1] Standard Errors assume that the covariance matrix of the errors is correctly specified.\n",
       "\"\"\""
      ]
     },
     "execution_count": 59,
     "metadata": {},
     "output_type": "execute_result"
    }
   ],
   "source": [
    "## X is the input variable (or independent variables)\n",
    "X = boston_df['MEDV']\n",
    "## y is the target/dependent variable\n",
    "y = boston_df['DIS']\n",
    "## add an intercept (beta_0) to our model\n",
    "X = sm.add_constant(X) \n",
    "\n",
    "model = sm.OLS(y, X).fit()\n",
    "predictions = model.predict(X)\n",
    "\n",
    "# Print out the statistics\n",
    "model.summary()"
   ]
  },
  {
   "cell_type": "markdown",
   "id": "3a8622b3",
   "metadata": {},
   "source": [
    "**Conclusion:** The p-value is less than the alpha (α) level = 0.05, so we reject the null hypothesis as there is evidence that there is a effect on MEDV based on DIS. The coefficient 0.0572 means that MEDV can be 0.0572 greater than DIS."
   ]
  },
  {
   "cell_type": "code",
   "execution_count": null,
   "id": "3a8d832c",
   "metadata": {},
   "outputs": [],
   "source": []
  }
 ],
 "metadata": {
  "kernelspec": {
   "display_name": "pyStats",
   "language": "python",
   "name": "pystats"
  },
  "language_info": {
   "codemirror_mode": {
    "name": "ipython",
    "version": 3
   },
   "file_extension": ".py",
   "mimetype": "text/x-python",
   "name": "python",
   "nbconvert_exporter": "python",
   "pygments_lexer": "ipython3",
   "version": "3.11.5"
  },
  "toc": {
   "base_numbering": 1,
   "nav_menu": {},
   "number_sections": true,
   "sideBar": true,
   "skip_h1_title": false,
   "title_cell": "Table of Contents",
   "title_sidebar": "Contents",
   "toc_cell": false,
   "toc_position": {},
   "toc_section_display": true,
   "toc_window_display": false
  }
 },
 "nbformat": 4,
 "nbformat_minor": 5
}
